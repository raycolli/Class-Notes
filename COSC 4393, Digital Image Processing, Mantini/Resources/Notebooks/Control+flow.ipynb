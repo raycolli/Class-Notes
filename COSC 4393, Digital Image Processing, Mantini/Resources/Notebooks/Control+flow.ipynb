{
 "cells": [
  {
   "cell_type": "markdown",
   "metadata": {},
   "source": [
    "# Control Flow\n",
    "Things that are False\n",
    "1. The boolean value False\n",
    "2. The numbers 0 (integer), 0.0 (float) and 0j (complex).\n",
    "3. The empty string \"\".\n",
    "4. The empty list [], empty dictionary {} and empty set set().\n",
    "Things that are True\n",
    "1. The boolean value True\n",
    "2. All non-zero numbers.\n",
    "3. Any string containing at least one character.\n",
    "4. A non-empty data structure."
   ]
  },
  {
   "cell_type": "code",
   "execution_count": null,
   "metadata": {
    "collapsed": true
   },
   "outputs": [],
   "source": [
    "smiles = \"BrC1=CC=C(C=C1)NN.Cl\"\n",
    "\n",
    "print(bool(smiles))\n",
    "\n",
    "print(not bool(smiles))\n"
   ]
  },
  {
   "cell_type": "markdown",
   "metadata": {},
   "source": [
    "# If statement"
   ]
  },
  {
   "cell_type": "code",
   "execution_count": null,
   "metadata": {
    "collapsed": true
   },
   "outputs": [],
   "source": [
    "x = 10\n",
    "#Test for positive number\n",
    "if x > 0:\n",
    "    print('x is a positive number')"
   ]
  },
  {
   "cell_type": "markdown",
   "metadata": {},
   "source": [
    "Else"
   ]
  },
  {
   "cell_type": "code",
   "execution_count": null,
   "metadata": {
    "collapsed": true
   },
   "outputs": [],
   "source": [
    "x = 10\n",
    "#x = -10\n",
    "#Test for positive number\n",
    "if x > 0:\n",
    "    print('x is a positive number')\n",
    "else:\n",
    "    print('x is non positive')\n",
    "    \n",
    "    \n",
    "smiles = \"BrC1=CC=C(C=C1)NN.Cl\"\n",
    "#smiles = \"\"\n",
    "if smiles:\n",
    "    print(smiles)\n",
    "else:\n",
    "    print('smiles is empty')"
   ]
  },
  {
   "cell_type": "markdown",
   "metadata": {},
   "source": [
    "Elif (else if)"
   ]
  },
  {
   "cell_type": "code",
   "execution_count": null,
   "metadata": {
    "collapsed": true
   },
   "outputs": [],
   "source": [
    "x = -1\n",
    "#x = 0\n",
    "#x = 1\n",
    "#Test for positive number\n",
    "if x > 0:\n",
    "    print('x is a positive number')\n",
    "elif x == 0:\n",
    "    print('x is zero')\n",
    "else:\n",
    "    print('x is a negative number')\n",
    "    \n"
   ]
  },
  {
   "cell_type": "markdown",
   "metadata": {},
   "source": [
    "Boolean logic"
   ]
  },
  {
   "cell_type": "code",
   "execution_count": null,
   "metadata": {
    "collapsed": true
   },
   "outputs": [],
   "source": [
    "a = 0\n",
    "b = 10\n",
    "if (a <= 5 and b >= 10 or b == 500 and a != 5):\n",
    "    print 'a and b'"
   ]
  },
  {
   "cell_type": "markdown",
   "metadata": {},
   "source": [
    "Range Test"
   ]
  },
  {
   "cell_type": "code",
   "execution_count": null,
   "metadata": {
    "collapsed": true
   },
   "outputs": [],
   "source": [
    "#if time between 3 and 5\n",
    "Time = 4\n",
    "#Time = 0\n",
    "if (3 <= Time <= 5):\n",
    "    print 'Office Hour'"
   ]
  },
  {
   "cell_type": "markdown",
   "metadata": {},
   "source": [
    "# For Statement"
   ]
  },
  {
   "cell_type": "code",
   "execution_count": null,
   "metadata": {
    "collapsed": true
   },
   "outputs": [],
   "source": [
    "numbers = [2, 3, 5, 7, 9]\n",
    "for i in numbers:\n",
    "    print(i)"
   ]
  },
  {
   "cell_type": "code",
   "execution_count": null,
   "metadata": {
    "collapsed": true
   },
   "outputs": [],
   "source": [
    "# Measure some strings:\n",
    "words = ['cat', 'window', 'defenestrate']\n",
    "for w in words:\n",
    "    print(w, len(w))"
   ]
  },
  {
   "cell_type": "code",
   "execution_count": null,
   "metadata": {
    "collapsed": true
   },
   "outputs": [],
   "source": [
    "#Tuple assignment in for loops\n",
    "data = [ (\"C20H20O3\", 308.371), (\"C22H20O2\", 316.393), (\"C24H40N4O2\", 416.6), (\"C14H25N5O3\", 311.38), (\"C15H20O2\", 232.3181)]\n",
    "\n",
    "for (formula, mw) in data:\n",
    "    print \"The molecular weight of %s is %s\" % (formula, mw)"
   ]
  },
  {
   "cell_type": "markdown",
   "metadata": {},
   "source": [
    "Break, continue"
   ]
  },
  {
   "cell_type": "code",
   "execution_count": null,
   "metadata": {
    "collapsed": true
   },
   "outputs": [],
   "source": [
    "for value in [3, 1, 4, 1, 5, 9, 2]:\n",
    "    print \"Checking\", value\n",
    "    if value > 8:\n",
    "        print \"Exiting for loop\"\n",
    "        break\n",
    "    elif value < 3:\n",
    "        print \"Ignoring\"\n",
    "        continue\n",
    "    print \"The square is\", value**2"
   ]
  },
  {
   "cell_type": "markdown",
   "metadata": {},
   "source": [
    "# Range()\n",
    "“range” creates a list of numbers in a specified range\n",
    "range([start,] stop[, step]) -> list of integers\n",
    "When step is given, it specifies the increment (or decrement)."
   ]
  },
  {
   "cell_type": "code",
   "execution_count": null,
   "metadata": {
    "collapsed": true
   },
   "outputs": [],
   "source": [
    "print(range(5))\n",
    "print(range(5, 10))\n",
    "print(range(0, 10, 2))"
   ]
  },
  {
   "cell_type": "markdown",
   "metadata": {},
   "source": [
    "# While statement"
   ]
  },
  {
   "cell_type": "code",
   "execution_count": null,
   "metadata": {
    "collapsed": true
   },
   "outputs": [],
   "source": [
    "count = 0\n",
    "while count < 9:\n",
    "   print('The count is:', count)\n",
    "   count = count + 1\n",
    "\n",
    "print \"Good bye!\""
   ]
  },
  {
   "cell_type": "code",
   "execution_count": null,
   "metadata": {
    "collapsed": true
   },
   "outputs": [],
   "source": []
  }
 ],
 "metadata": {
  "kernelspec": {
   "display_name": "Python 3",
   "language": "python",
   "name": "python3"
  },
  "language_info": {
   "codemirror_mode": {
    "name": "ipython",
    "version": 3
   },
   "file_extension": ".py",
   "mimetype": "text/x-python",
   "name": "python",
   "nbconvert_exporter": "python",
   "pygments_lexer": "ipython3",
   "version": "3.6.1"
  }
 },
 "nbformat": 4,
 "nbformat_minor": 2
}

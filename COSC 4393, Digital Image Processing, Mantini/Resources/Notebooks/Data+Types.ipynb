{
 "cells": [
  {
   "cell_type": "markdown",
   "metadata": {},
   "source": [
    "# Print"
   ]
  },
  {
   "cell_type": "code",
   "execution_count": 1,
   "metadata": {},
   "outputs": [
    {
     "name": "stdout",
     "output_type": "stream",
     "text": [
      "Hello World!\n",
      "1\n",
      "Hello World!\n"
     ]
    }
   ],
   "source": [
    "print('Hello World!')\n",
    "a = 1\n",
    "print(a)\n",
    "b = 'Hello World!'\n",
    "print(b)"
   ]
  },
  {
   "cell_type": "raw",
   "metadata": {},
   "source": [
    "Format Print:"
   ]
  },
  {
   "cell_type": "code",
   "execution_count": 2,
   "metadata": {},
   "outputs": [
    {
     "name": "stdout",
     "output_type": "stream",
     "text": [
      "Message Hello World!\n",
      "Message for John: Hello!\n"
     ]
    }
   ],
   "source": [
    "message = 'Hello World!'\n",
    "print('Message %s' % message)\n",
    "\n",
    "message = 'Hello!'\n",
    "user='John'\n",
    "print('Message for %s: %s' % (user, message))\n"
   ]
  },
  {
   "cell_type": "markdown",
   "metadata": {
    "collapsed": true
   },
   "source": [
    "# List"
   ]
  },
  {
   "cell_type": "markdown",
   "metadata": {},
   "source": [
    "A compound data type:"
   ]
  },
  {
   "cell_type": "code",
   "execution_count": 3,
   "metadata": {},
   "outputs": [
    {
     "name": "stdout",
     "output_type": "stream",
     "text": [
      "[0]\n",
      "[2.3, 4.5]\n",
      "[5, 'Hello', 'there', 9.8]\n",
      "[]\n"
     ]
    }
   ],
   "source": [
    "a = [0]\n",
    "print(a)\n",
    "b = [2.3, 4.5]\n",
    "print(b)\n",
    "c = [5, \"Hello\", \"there\", 9.8]\n",
    "print(c)\n",
    "d = []\n",
    "print(d)\n"
   ]
  },
  {
   "cell_type": "markdown",
   "metadata": {},
   "source": [
    "Use len() to get the length of a list"
   ]
  },
  {
   "cell_type": "code",
   "execution_count": 4,
   "metadata": {},
   "outputs": [
    {
     "name": "stdout",
     "output_type": "stream",
     "text": [
      "Length of a:1\n",
      "Length of b:2\n",
      "Length of c:4\n",
      "Length of d:0\n"
     ]
    }
   ],
   "source": [
    "a = [0]\n",
    "b = [2.3, 4.5]\n",
    "c = [5, \"Hello\", \"there\", 9.8]\n",
    "d = []\n",
    "print('Length of a:%d' % len(a))\n",
    "print('Length of b:%d' % len(b))\n",
    "print('Length of c:%d' % len(c))\n",
    "print('Length of d:%d' % len(d))"
   ]
  },
  {
   "cell_type": "markdown",
   "metadata": {},
   "source": [
    "Use [ ] to index items in the list"
   ]
  },
  {
   "cell_type": "code",
   "execution_count": 5,
   "metadata": {},
   "outputs": [
    {
     "name": "stdout",
     "output_type": "stream",
     "text": [
      "10\n",
      "12\n",
      "22\n"
     ]
    }
   ],
   "source": [
    "a = [10, 12, 22, 67, 24, 82, 1, 12]\n",
    "print(a[0])\n",
    "print(a[1])\n",
    "print(a[2])"
   ]
  },
  {
   "cell_type": "markdown",
   "metadata": {},
   "source": [
    "Access in reverse order"
   ]
  },
  {
   "cell_type": "code",
   "execution_count": 6,
   "metadata": {},
   "outputs": [
    {
     "name": "stdout",
     "output_type": "stream",
     "text": [
      "12\n",
      "1\n",
      "82\n"
     ]
    }
   ],
   "source": [
    "a = [10, 12, 22, 67, 24, 82, 1, 12]\n",
    "print(a[-1])\n",
    "print(a[-2])\n",
    "print(a[-3])"
   ]
  },
  {
   "cell_type": "markdown",
   "metadata": {},
   "source": [
    "Slice notation"
   ]
  },
  {
   "cell_type": "code",
   "execution_count": 7,
   "metadata": {},
   "outputs": [
    {
     "name": "stdout",
     "output_type": "stream",
     "text": [
      "[12, 22]\n",
      "[22, 67, 24]\n"
     ]
    }
   ],
   "source": [
    "a = [10, 12, 22, 67, 24, 82, 1, 12]\n",
    "print(a[1:3])\n",
    "print(a[2:5])"
   ]
  },
  {
   "cell_type": "markdown",
   "metadata": {},
   "source": [
    "Lists are mutable - some useful methods"
   ]
  },
  {
   "cell_type": "code",
   "execution_count": 8,
   "metadata": {},
   "outputs": [
    {
     "name": "stdout",
     "output_type": "stream",
     "text": [
      "['9pti', '2plv', '1crn', '1alm']\n",
      "['9pti', '2plv', '1crn', '1alm', '4rklm', '5lbst']\n",
      "['2plv', '1crn', '1alm', '4rklm', '5lbst']\n",
      "['1alm', '1crn', '2plv', '4rklm', '5lbst']\n",
      "['5lbst', '4rklm', '2plv', '1crn', '1alm']\n",
      "['9pti', '5lbst', '4rklm', '2plv', '1crn', '1alm']\n"
     ]
    }
   ],
   "source": [
    "ids = [\"9pti\", \"2plv\", \"1crn\"]\n",
    "ids.append(\"1alm\")\n",
    "print(ids)\n",
    "\n",
    "L = ['4rklm', '5lbst']\n",
    "ids.extend(L)\n",
    "print(ids)\n",
    "\n",
    "del ids[0]\n",
    "print(ids)\n",
    "\n",
    "ids.sort()\n",
    "print(ids)\n",
    "\n",
    "ids.reverse()\n",
    "print(ids)\n",
    "\n",
    "ids.insert(0, \"9pti\")\n",
    "print(ids)\n"
   ]
  },
  {
   "cell_type": "markdown",
   "metadata": {},
   "source": [
    "# Strings: \n",
    "share many features with lists"
   ]
  },
  {
   "cell_type": "code",
   "execution_count": 9,
   "metadata": {},
   "outputs": [
    {
     "name": "stdout",
     "output_type": "stream",
     "text": [
      "C\n",
      "(\n",
      "O\n",
      "(=N)\n",
      "C(=O)\n"
     ]
    }
   ],
   "source": [
    "smiles = \"C(=N)(N)N.C(=O)(O)O\"\n",
    "print(smiles[0])\n",
    "print(smiles[1])\n",
    "print(smiles[-1])\n",
    "print(smiles[1:5])\n",
    "print(smiles[10:-4])"
   ]
  },
  {
   "cell_type": "markdown",
   "metadata": {},
   "source": [
    "String Methods: find, split"
   ]
  },
  {
   "cell_type": "code",
   "execution_count": 10,
   "metadata": {},
   "outputs": [
    {
     "name": "stdout",
     "output_type": "stream",
     "text": [
      "15\n",
      "9\n",
      "-1\n",
      "['C(=N)(N)N', 'C(=O)(O)O']\n"
     ]
    }
   ],
   "source": [
    "smiles = \"C(=N)(N)N.C(=O)(O)O\"\n",
    "print(smiles.find(\"(O)\"))\n",
    "print(smiles.find(\".\"))\n",
    "print(smiles.find(\".\", 10))\n",
    "print(smiles.split(\".\"))"
   ]
  },
  {
   "cell_type": "markdown",
   "metadata": {},
   "source": [
    "String operators: in, not in"
   ]
  },
  {
   "cell_type": "code",
   "execution_count": 11,
   "metadata": {},
   "outputs": [
    {
     "name": "stdout",
     "output_type": "stream",
     "text": [
      "True\n",
      "True\n"
     ]
    }
   ],
   "source": [
    "ans = 'Br' in 'Brother'\n",
    "print(ans)\n",
    "\n",
    "email_address = 'wrongformat.gmail.com'\n",
    "print('@' not in email_address)"
   ]
  },
  {
   "cell_type": "markdown",
   "metadata": {},
   "source": [
    "More String methods"
   ]
  },
  {
   "cell_type": "code",
   "execution_count": 12,
   "metadata": {},
   "outputs": [
    {
     "name": "stdout",
     "output_type": "stream",
     "text": [
      "False\n",
      "True\n",
      "clin@brandeis.edu\n",
      "Ben,Chen,Yaqin\n",
      "BEN\n"
     ]
    }
   ],
   "source": [
    "email = 'pyhton@uh.edu'\n",
    "print(email.startswith('c'))\n",
    "print(email.endswith('u'))\n",
    "\n",
    "print('%s@brandeis.edu' % 'clin')\n",
    "\n",
    "names = ['Ben', 'Chen', 'Yaqin']\n",
    "print(','.join(names))\n",
    "print('ben'.upper())\n"
   ]
  },
  {
   "cell_type": "markdown",
   "metadata": {},
   "source": [
    "# Tuples: \n",
    "Sort of an immutable list"
   ]
  },
  {
   "cell_type": "code",
   "execution_count": 13,
   "metadata": {},
   "outputs": [
    {
     "name": "stdout",
     "output_type": "stream",
     "text": [
      "255\n",
      "(255, 0)\n",
      "Andrew lives in Sweden at latitude 57.7\n"
     ]
    }
   ],
   "source": [
    "yellow = (255, 255, 0) # r, g, b\n",
    "one    = (1,)\n",
    "print(yellow[0])\n",
    "print(yellow[1:])\n",
    "\n",
    "#Very common in string interpolation:\n",
    "print(\"%s lives in %s at latitude %.1f\" % (\"Andrew\", \"Sweden\", 57.7056))"
   ]
  },
  {
   "cell_type": "markdown",
   "metadata": {},
   "source": [
    "zipping lists together"
   ]
  },
  {
   "cell_type": "code",
   "execution_count": 16,
   "metadata": {},
   "outputs": [
    {
     "ename": "SyntaxError",
     "evalue": "unexpected EOF while parsing (<ipython-input-16-e2a767dd86d3>, line 3)",
     "output_type": "error",
     "traceback": [
      "\u001b[0;36m  File \u001b[0;32m\"<ipython-input-16-e2a767dd86d3>\"\u001b[0;36m, line \u001b[0;32m3\u001b[0m\n\u001b[0;31m    print(list(zip(names, gender))\u001b[0m\n\u001b[0m                                  ^\u001b[0m\n\u001b[0;31mSyntaxError\u001b[0m\u001b[0;31m:\u001b[0m unexpected EOF while parsing\n"
     ]
    }
   ],
   "source": [
    "names = ['ben', 'chen', 'yaqin']\n",
    "gender = [0, 0, 1]\n",
    "print(list(zip(names, gender)))\n"
   ]
  },
  {
   "cell_type": "markdown",
   "metadata": {},
   "source": [
    "# Dictionaries\n",
    "Dictionaries are lookup tables.\n",
    "They map from a “key” to a “value”."
   ]
  },
  {
   "cell_type": "code",
   "execution_count": 1,
   "metadata": {},
   "outputs": [
    {
     "name": "stdout",
     "output_type": "stream",
     "text": [
      "{'C': 'carbon', 'H': 'hydrogen', 'O': 'oxygen', 'N': 'nitrogen', 'Li': 'lithium', 'He': 'helium'}\n",
      "carbon\n",
      "(True, False)\n"
     ]
    }
   ],
   "source": [
    "symbol_to_name = {\"H\": \"hydrogen\", \"He\": \"helium\", \"Li\": \"lithium\", \"C\": \"carbon\", \"O\": \"oxygen\", \"N\": \"nitrogen\"}\n",
    "print(symbol_to_name)\n",
    "\n",
    "#Accessing \n",
    "print(symbol_to_name[\"C\"])\n",
    "\n",
    "#Test if the key exists (“in” only checks the keys, not the values.)\n",
    "print( \"O\" in symbol_to_name, \"U\" in symbol_to_name)"
   ]
  },
  {
   "cell_type": "markdown",
   "metadata": {},
   "source": [
    "Duplicate keys are not allowed\n",
    "Duplicate values are just fine\n",
    "Keys can be any immutable value -> numbers, strings, tuples, frozenset, \n",
    "but not -> list, dictionary, set, ..."
   ]
  },
  {
   "cell_type": "code",
   "execution_count": null,
   "metadata": {
    "collapsed": true
   },
   "outputs": [],
   "source": [
    "#A set is an unordered collection with no duplicate elements. \n",
    "atomic_number_to_name = {1: \"hydrogen\", 6: \"carbon\", 7: \"nitrogen\", 8: \"oxygen\"}\n",
    "print(atomic_number_to_name)\n",
    "\n",
    "nobel_prize_winners = {(1979, \"physics\"): [\"Glashow\", \"Salam\", \"Weinberg\"], (1962, \"chemistry\"): [\"Hodgkin\"], (1984, \"biology\"): [\"McClintock\"]}\n",
    "print(nobel_prize_winners)"
   ]
  },
  {
   "cell_type": "markdown",
   "metadata": {},
   "source": [
    "Some useful dictionary methods"
   ]
  },
  {
   "cell_type": "code",
   "execution_count": 5,
   "metadata": {},
   "outputs": [
    {
     "name": "stdout",
     "output_type": "stream",
     "text": [
      "['C', 'H', 'O', 'N', 'Li', 'He']\n",
      "['carbon', 'hydrogen', 'oxygen', 'nitrogen', 'lithium', 'helium']\n",
      "[('C', 'carbon'), ('H', 'hydrogen'), ('O', 'oxygen'), ('N', 'nitrogen'), ('P', 'phosphorous'), ('S', 'sulfur'), ('Li', 'lithium'), ('He', 'helium')]\n",
      "{'H': 'hydrogen', 'O': 'oxygen', 'N': 'nitrogen', 'P': 'phosphorous', 'S': 'sulfur', 'Li': 'lithium', 'He': 'helium'}\n"
     ]
    }
   ],
   "source": [
    "symbol_to_name = {\"H\": \"hydrogen\", \"He\": \"helium\", \"Li\": \"lithium\", \"C\": \"carbon\", \"O\": \"oxygen\", \"N\": \"nitrogen\"}\n",
    "print(symbol_to_name.keys())\n",
    "\n",
    "print(symbol_to_name.values())\n",
    "\n",
    "symbol_to_name.update( {\"P\": \"phosphorous\", \"S\": \"sulfur\"})\n",
    "print(symbol_to_name.items())\n",
    "\n",
    "del symbol_to_name['C']\n",
    "print(symbol_to_name)"
   ]
  },
  {
   "cell_type": "markdown",
   "metadata": {},
   "source": []
  }
 ],
 "metadata": {
  "kernelspec": {
   "display_name": "Python 3",
   "language": "python",
   "name": "python3"
  },
  "language_info": {
   "codemirror_mode": {
    "name": "ipython",
    "version": 3
   },
   "file_extension": ".py",
   "mimetype": "text/x-python",
   "name": "python",
   "nbconvert_exporter": "python",
   "pygments_lexer": "ipython3",
   "version": "3.6.1"
  }
 },
 "nbformat": 4,
 "nbformat_minor": 2
}

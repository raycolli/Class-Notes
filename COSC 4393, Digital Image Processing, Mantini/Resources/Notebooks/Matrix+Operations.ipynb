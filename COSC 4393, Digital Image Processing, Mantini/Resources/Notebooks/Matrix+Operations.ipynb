{
 "cells": [
  {
   "cell_type": "markdown",
   "metadata": {},
   "source": [
    "# Numpy\n",
    "Numpy is used by most scientific packages in Python\n",
    "Numpy provides a matrix class"
   ]
  },
  {
   "cell_type": "code",
   "execution_count": null,
   "metadata": {
    "collapsed": true
   },
   "outputs": [],
   "source": [
    "import numpy as np\n",
    "#Arrays\n",
    "y = np.array([1,3,2])\n",
    "print('y: ', y)\n",
    "             \n",
    "print('shape: ', y.shape)"
   ]
  },
  {
   "cell_type": "code",
   "execution_count": null,
   "metadata": {
    "collapsed": true
   },
   "outputs": [],
   "source": [
    "import numpy as np\n",
    "#matrix: 2D array\n",
    "mat = np.matrix('1 2; 3 4')\n",
    "\n",
    "print(mat)"
   ]
  },
  {
   "cell_type": "markdown",
   "metadata": {},
   "source": [
    "Reshape function"
   ]
  },
  {
   "cell_type": "code",
   "execution_count": null,
   "metadata": {
    "collapsed": true
   },
   "outputs": [],
   "source": [
    "import numpy as np\n",
    "A = np.array([1,1,2,3,5,8,13,21,34]).reshape(3,3)\n",
    "print(A)\n",
    "print('shape: ', A.shape)"
   ]
  },
  {
   "cell_type": "markdown",
   "metadata": {},
   "source": [
    "Zeros function"
   ]
  },
  {
   "cell_type": "code",
   "execution_count": null,
   "metadata": {
    "collapsed": true
   },
   "outputs": [],
   "source": [
    "import numpy as np\n",
    "zero_mat = np.zeros((3,4),dtype=int)\n",
    "print(zero_mat)"
   ]
  },
  {
   "cell_type": "markdown",
   "metadata": {},
   "source": [
    "Arrange function"
   ]
  },
  {
   "cell_type": "code",
   "execution_count": null,
   "metadata": {
    "collapsed": true
   },
   "outputs": [],
   "source": [
    "import numpy as np\n",
    "B = np.arange(0,16,3)\n",
    "print(B)\n",
    "\n",
    "B = B.reshape(3,2)\n",
    "print(B)\n"
   ]
  },
  {
   "cell_type": "markdown",
   "metadata": {},
   "source": [
    "# Arithmetic operations:"
   ]
  },
  {
   "cell_type": "code",
   "execution_count": null,
   "metadata": {
    "collapsed": true
   },
   "outputs": [],
   "source": [
    "import numpy as np\n",
    "A = np.array([1,1,2,3,5,8,13,21,34]).reshape(3,3)\n",
    "\n",
    "print(A)\n",
    "\n",
    "print(A * 2)\n",
    "\n",
    "print(A / 2)"
   ]
  },
  {
   "cell_type": "code",
   "execution_count": null,
   "metadata": {
    "collapsed": true
   },
   "outputs": [],
   "source": [
    "import numpy as np\n",
    "#Matrix multiplication \n",
    "A = np.array([1,1,2,3,5,8,13,21,34]).reshape(3,3)\n",
    "print(A)\n",
    "print(A*A)\n",
    "\n",
    "\n",
    "y = np. array([1, 3, 2])\n",
    "print(A*y)\n",
    "\n"
   ]
  },
  {
   "cell_type": "code",
   "execution_count": null,
   "metadata": {
    "collapsed": true
   },
   "outputs": [],
   "source": [
    "#Numpy operations are element wise operations.\n",
    "A = np.array([1,1,2,3,5,8,13,21,34]).reshape(3,3)\n",
    "\n",
    "print(A)\n",
    "\n",
    "#exponentiation\n",
    "print(A**2)\n",
    "\n",
    "#dot function:\n",
    "print(np.dot(A,A))"
   ]
  },
  {
   "cell_type": "code",
   "execution_count": null,
   "metadata": {
    "collapsed": true
   },
   "outputs": [],
   "source": [
    "#Inner product \n",
    "x = np.array([1,3,2])[:,None]\n",
    "z = np.array([3,4,5])[:,None]\n",
    "\n",
    "print(np.sum(x*z))\n",
    "\n",
    "#Transpose\n",
    "print(z.T)\n",
    "\n",
    "#Outter product\n",
    "print(np.dot(x,z.T))\n",
    "\n",
    "#Element wise product\n",
    "print(x*z)"
   ]
  },
  {
   "cell_type": "code",
   "execution_count": null,
   "metadata": {
    "collapsed": true
   },
   "outputs": [],
   "source": []
  }
 ],
 "metadata": {
  "kernelspec": {
   "display_name": "Python 3",
   "language": "python",
   "name": "python3"
  },
  "language_info": {
   "codemirror_mode": {
    "name": "ipython",
    "version": 3
   },
   "file_extension": ".py",
   "mimetype": "text/x-python",
   "name": "python",
   "nbconvert_exporter": "python",
   "pygments_lexer": "ipython3",
   "version": "3.6.1"
  }
 },
 "nbformat": 4,
 "nbformat_minor": 2
}
